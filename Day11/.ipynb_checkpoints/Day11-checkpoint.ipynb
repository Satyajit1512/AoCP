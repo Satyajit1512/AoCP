{
 "cells": [
  {
   "cell_type": "code",
   "execution_count": 599,
   "id": "21bee383",
   "metadata": {},
   "outputs": [],
   "source": [
    "grid = []\n",
    "\n",
    "with open('./trial.txt', 'r') as file:\n",
    "\n",
    "     for line in file:\n",
    "                                          \n",
    "        if line != \"\\n\":\n",
    "                                   \n",
    "            grid.append(line.rstrip(\"\\n\"))"
   ]
  },
  {
   "cell_type": "code",
   "execution_count": 600,
   "id": "a89744d2",
   "metadata": {},
   "outputs": [
    {
     "data": {
      "text/plain": [
       "4"
      ]
     },
     "execution_count": 600,
     "metadata": {},
     "output_type": "execute_result"
    }
   ],
   "source": [
    "len(grid[0])"
   ]
  },
  {
   "cell_type": "code",
   "execution_count": 601,
   "id": "943a809a",
   "metadata": {},
   "outputs": [],
   "source": [
    "##Discover all the connected components in orthogonal way, also keep track of how you are adding\n",
    "\n",
    "from collections import defaultdict\n",
    "\n",
    "visited = set()\n",
    "\n",
    "connected_comp = defaultdict(set)\n",
    "\n",
    "\n",
    "\n",
    "def dfs(node,cc):\n",
    "     \n",
    "    visited.add(node)\n",
    "            \n",
    "    x, y = node\n",
    "    \n",
    "    connected_comp[cc].add(node)\n",
    "    \n",
    "    n = len(grid)\n",
    "    \n",
    "    edge_loss = 0\n",
    "    \n",
    "    to_explore = []\n",
    "    \n",
    "    \n",
    "    for dx,dy in [(-1,0),(1,0),(0,1),(0,-1)]:\n",
    "                            \n",
    "        next_x = x + dx\n",
    "\n",
    "        next_y = y + dy\n",
    "\n",
    "        if next_x >= 0 and next_x <= n-1 and next_y >= 0 and  next_y <= n-1:\n",
    "\n",
    "            if grid[next_x][next_y] == grid[x][y]:\n",
    "\n",
    "                if (next_x, next_y) not in visited:\n",
    "\n",
    "                    dfs((next_x, next_y), cc)\n",
    "                                                             \n",
    "    return"
   ]
  },
  {
   "cell_type": "code",
   "execution_count": 602,
   "id": "c946efc6",
   "metadata": {},
   "outputs": [],
   "source": [
    "visited = set()\n",
    "\n",
    "connected_comp = defaultdict(set)\n",
    "\n",
    "cc = 0\n",
    "\n",
    "for i in range(len(grid)):\n",
    "    \n",
    "    for j in range(len(grid[0])):\n",
    "                \n",
    "        if (i,j) not in visited:\n",
    "                        \n",
    "            cc += 1\n",
    "            \n",
    "            visited.add((i,j))\n",
    "            \n",
    "            dfs((i,j),cc)"
   ]
  },
  {
   "cell_type": "code",
   "execution_count": 603,
   "id": "28cce987",
   "metadata": {},
   "outputs": [],
   "source": [
    "ccs = len(connected_comp.keys())\n",
    "\n",
    "n = len(grid)\n",
    "\n",
    "connected_comp[ccs+1] = set([(-1,x) for x in range(len(grid))])\n",
    "connected_comp[ccs+2] = set([(x,-1) for x in range(len(grid))])\n",
    "connected_comp[ccs+3] = set([(n,x) for x in range(len(grid))])\n",
    "connected_comp[ccs+4] = set([(x,n) for x in range(len(grid))])"
   ]
  },
  {
   "cell_type": "code",
   "execution_count": 604,
   "id": "5940345f",
   "metadata": {},
   "outputs": [
    {
     "data": {
      "text/plain": [
       "defaultdict(set,\n",
       "            {1: {(0, 0), (0, 1), (0, 2), (0, 3)},\n",
       "             2: {(1, 0), (1, 1), (2, 0), (2, 1)},\n",
       "             3: {(1, 2), (2, 2), (2, 3), (3, 3)},\n",
       "             4: {(1, 3)},\n",
       "             5: {(3, 0), (3, 1), (3, 2)},\n",
       "             6: {(-1, 0), (-1, 1), (-1, 2), (-1, 3)},\n",
       "             7: {(0, -1), (1, -1), (2, -1), (3, -1)},\n",
       "             8: {(4, 0), (4, 1), (4, 2), (4, 3)},\n",
       "             9: {(0, 4), (1, 4), (2, 4), (3, 4)}})"
      ]
     },
     "execution_count": 604,
     "metadata": {},
     "output_type": "execute_result"
    }
   ],
   "source": [
    "connected_comp"
   ]
  },
  {
   "cell_type": "code",
   "execution_count": 607,
   "id": "d37bc633",
   "metadata": {},
   "outputs": [
    {
     "ename": "NameError",
     "evalue": "name 'fences_node' is not defined",
     "output_type": "error",
     "traceback": [
      "\u001b[0;31m---------------------------------------------------------------------------\u001b[0m",
      "\u001b[0;31mNameError\u001b[0m                                 Traceback (most recent call last)",
      "Cell \u001b[0;32mIn[607], line 39\u001b[0m\n\u001b[1;32m     35\u001b[0m         \u001b[38;5;28;01mif\u001b[39;00m (next_x \u001b[38;5;241m==\u001b[39m x) \u001b[38;5;129;01mor\u001b[39;00m (next_y \u001b[38;5;241m==\u001b[39m y):\n\u001b[1;32m     37\u001b[0m             fences_node \u001b[38;5;241m-\u001b[39m\u001b[38;5;241m=\u001b[39m \u001b[38;5;241m2\u001b[39m\n\u001b[0;32m---> 39\u001b[0m fences \u001b[38;5;241m+\u001b[39m\u001b[38;5;241m=\u001b[39m \u001b[43mfences_node\u001b[49m\n\u001b[1;32m     41\u001b[0m \u001b[38;5;28mprint\u001b[39m(key, area, fences)\n\u001b[1;32m     43\u001b[0m total_new \u001b[38;5;241m+\u001b[39m\u001b[38;5;241m=\u001b[39m area\u001b[38;5;241m*\u001b[39mfences\n",
      "\u001b[0;31mNameError\u001b[0m: name 'fences_node' is not defined"
     ]
    }
   ],
   "source": [
    "total_old = 0\n",
    "\n",
    "total_new = 0\n",
    "\n",
    "n = len(grid)\n",
    "\n",
    "for key in range(ccs + 1):\n",
    "    \n",
    "    area = len(connected_comp[key])\n",
    "    \n",
    "    fences = 4*area\n",
    "    \n",
    "    perimeter = 4*area\n",
    "        \n",
    "    delta = 0\n",
    "    \n",
    "    outside = 0\n",
    "    \n",
    "    x_s = set()\n",
    "    \n",
    "    y_s = set()\n",
    "    \n",
    "    turns = 0\n",
    "    \n",
    "    values = list(connected_comp[key])\n",
    "    \n",
    "    start = values.pop(0)\n",
    "    \n",
    "    turns = 0\n",
    "    \n",
    "    start_x, start_y = start\n",
    "    \n",
    "    while ((start_x - 1, start))\n",
    "  \n",
    "                \n",
    "                \n",
    "    print(key, area, fences)\n",
    "    \n",
    "    total_new += area*fences\n",
    "    \n",
    "    total_old += area*perimeter"
   ]
  },
  {
   "cell_type": "code",
   "execution_count": null,
   "id": "aa45e819",
   "metadata": {},
   "outputs": [],
   "source": [
    "total_old"
   ]
  },
  {
   "cell_type": "code",
   "execution_count": null,
   "id": "f7b2a4f1",
   "metadata": {},
   "outputs": [],
   "source": [
    "total_new"
   ]
  },
  {
   "cell_type": "code",
   "execution_count": null,
   "id": "1e37f5d5",
   "metadata": {},
   "outputs": [],
   "source": []
  },
  {
   "cell_type": "code",
   "execution_count": null,
   "id": "ee5167e1",
   "metadata": {},
   "outputs": [],
   "source": []
  }
 ],
 "metadata": {
  "kernelspec": {
   "display_name": "Python 3 (ipykernel)",
   "language": "python",
   "name": "python3"
  },
  "language_info": {
   "codemirror_mode": {
    "name": "ipython",
    "version": 3
   },
   "file_extension": ".py",
   "mimetype": "text/x-python",
   "name": "python",
   "nbconvert_exporter": "python",
   "pygments_lexer": "ipython3",
   "version": "3.10.9"
  }
 },
 "nbformat": 4,
 "nbformat_minor": 5
}
