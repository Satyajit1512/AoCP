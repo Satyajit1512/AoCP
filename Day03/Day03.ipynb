{
 "cells": [
  {
   "cell_type": "code",
   "execution_count": 102,
   "id": "9914a0fd",
   "metadata": {},
   "outputs": [],
   "source": [
    "import pandas as pd\n",
    "import re"
   ]
  },
  {
   "cell_type": "code",
   "execution_count": 103,
   "id": "21bee383",
   "metadata": {},
   "outputs": [
    {
     "data": {
      "text/plain": [
       "173419328"
      ]
     },
     "execution_count": 103,
     "metadata": {},
     "output_type": "execute_result"
    }
   ],
   "source": [
    "f=open(\"./input.txt\")\n",
    "\n",
    "data = f.read()\n",
    "f.close()\n",
    "\n",
    "ans = 0\n",
    "\n",
    "for mul in re.findall(r'mul\\([0-9]+,[0-9]+\\)',data):\n",
    "    \n",
    "    curr = 4\n",
    "     \n",
    "    first_num = []\n",
    "        \n",
    "    second_num = []\n",
    "    \n",
    "    while mul[curr] != \",\":\n",
    "        first_num.append(mul[curr])\n",
    "        curr += 1\n",
    "     \n",
    "    curr += 1\n",
    "    while mul[curr] != \")\":\n",
    "        second_num.append(mul[curr])\n",
    "        curr += 1\n",
    "        \n",
    "    first_num = int(''.join(first_num))\n",
    "    \n",
    "    second_num = int(''.join(second_num))\n",
    "    \n",
    "    ans += first_num*second_num\n",
    "    \n",
    "ans"
   ]
  },
  {
   "cell_type": "code",
   "execution_count": 104,
   "id": "41588749",
   "metadata": {},
   "outputs": [],
   "source": [
    "#data = \"xmul(2,4)&mul[3,7]!^don't()_mul(5,5)+mul(32,64](mul(11,8)undo()?mul(8,5))\""
   ]
  },
  {
   "cell_type": "code",
   "execution_count": 105,
   "id": "1ab65a42",
   "metadata": {},
   "outputs": [
    {
     "data": {
      "text/plain": [
       "90669332"
      ]
     },
     "execution_count": 105,
     "metadata": {},
     "output_type": "execute_result"
    }
   ],
   "source": [
    "ans = 0\n",
    "\n",
    "on = True\n",
    "\n",
    "\n",
    "for pat in re.findall(r'mul\\([0-9]+,[0-9]+\\)|don\\'t\\(\\)|do\\(\\)', data):\n",
    "                              \n",
    "    if pat == \"don't()\":\n",
    "        \n",
    "        on = False\n",
    "    \n",
    "    \n",
    "    elif pat == \"do()\" :\n",
    "                                \n",
    "        on = True\n",
    "        \n",
    "        \n",
    "    else:\n",
    "        \n",
    "        if on:\n",
    "                                    \n",
    "            curr=4\n",
    "\n",
    "            first_num = []\n",
    "\n",
    "            second_num = []\n",
    "\n",
    "            while pat[curr] != \",\":\n",
    "                first_num.append(pat[curr])\n",
    "                curr += 1\n",
    "\n",
    "            curr += 1\n",
    "            while pat[curr] != \")\":\n",
    "                second_num.append(pat[curr])\n",
    "                curr += 1\n",
    "\n",
    "            first_num = int(''.join(first_num))\n",
    "\n",
    "            second_num = int(''.join(second_num))\n",
    "                        \n",
    "            ans += first_num*second_num\n",
    "        \n",
    "ans"
   ]
  },
  {
   "cell_type": "code",
   "execution_count": null,
   "id": "26d698ad",
   "metadata": {},
   "outputs": [],
   "source": []
  }
 ],
 "metadata": {
  "kernelspec": {
   "display_name": "Python 3 (ipykernel)",
   "language": "python",
   "name": "python3"
  },
  "language_info": {
   "codemirror_mode": {
    "name": "ipython",
    "version": 3
   },
   "file_extension": ".py",
   "mimetype": "text/x-python",
   "name": "python",
   "nbconvert_exporter": "python",
   "pygments_lexer": "ipython3",
   "version": "3.10.9"
  }
 },
 "nbformat": 4,
 "nbformat_minor": 5
}
