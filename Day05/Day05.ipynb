{
 "cells": [
  {
   "cell_type": "code",
   "execution_count": 2,
   "id": "9914a0fd",
   "metadata": {},
   "outputs": [],
   "source": [
    "import pandas as pd\n",
    "import re"
   ]
  },
  {
   "cell_type": "code",
   "execution_count": 3,
   "id": "21bee383",
   "metadata": {},
   "outputs": [
    {
     "data": {
      "text/plain": [
       "5329"
      ]
     },
     "execution_count": 3,
     "metadata": {},
     "output_type": "execute_result"
    }
   ],
   "source": [
    "set_tup = set()\n",
    "\n",
    "run_queries = False\n",
    "\n",
    "ans = 0\n",
    "\n",
    "with open('input.txt', 'r') as file:\n",
    "\n",
    "    for line in file:\n",
    "        \n",
    "        if line == '\\n':\n",
    "            \n",
    "            run_queries = True\n",
    "                        \n",
    "            continue\n",
    "            \n",
    "        elif not(run_queries):\n",
    "                        \n",
    "            vals = line.rstrip(\"\\n\").split(\"|\")\n",
    "                                    \n",
    "            set_tup.add((int(vals[0]),int(vals[1])))\n",
    "           \n",
    "        else:\n",
    "                        \n",
    "            vals = [int(x) for x in line.rstrip(\"\\n\").split(\",\")]\n",
    "            \n",
    "            check_passed = True\n",
    "            \n",
    "            n = len(vals)\n",
    "                        \n",
    "            for i in range(n):\n",
    "                \n",
    "                for j in range(i+1,n):\n",
    "                    \n",
    "                    if (vals[i],vals[j]) not in set_tup:\n",
    "                        \n",
    "                        check_passed = False\n",
    "                        \n",
    "                        break\n",
    "                        \n",
    "            if check_passed:   \n",
    "                \n",
    "                ans += vals[n//2]\n",
    "\n",
    "                \n",
    "ans"
   ]
  },
  {
   "cell_type": "code",
   "execution_count": 4,
   "id": "0449729d",
   "metadata": {},
   "outputs": [
    {
     "data": {
      "text/plain": [
       "5833"
      ]
     },
     "execution_count": 4,
     "metadata": {},
     "output_type": "execute_result"
    }
   ],
   "source": [
    "set_tup = set()\n",
    "\n",
    "run_queries = False\n",
    "\n",
    "ans = 0\n",
    "\n",
    "with open('input.txt', 'r') as file:\n",
    "\n",
    "    for line in file:\n",
    "        \n",
    "        if line == '\\n':\n",
    "            \n",
    "            run_queries = True\n",
    "                        \n",
    "            continue\n",
    "            \n",
    "        elif not(run_queries):\n",
    "                        \n",
    "            vals = line.rstrip(\"\\n\").split(\"|\")\n",
    "                                    \n",
    "            set_tup.add((int(vals[0]),int(vals[1])))\n",
    "           \n",
    "        else:\n",
    "                        \n",
    "            vals = [int(x) for x in line.rstrip(\"\\n\").split(\",\")]\n",
    "            \n",
    "            fix_this = False\n",
    "            \n",
    "            n = len(vals)\n",
    "            \n",
    "                        \n",
    "            for i in range(n):\n",
    "                \n",
    "                for j in range(i+1,n):\n",
    "                    \n",
    "                    if (vals[i],vals[j]) not in set_tup:\n",
    "                        \n",
    "                        fix_this = True\n",
    "                        \n",
    "                        break\n",
    "               \n",
    "            \n",
    "            if fix_this: \n",
    "                \n",
    "                for i in range(n):\n",
    "                \n",
    "                    for j in range(i+1,n):\n",
    "                        \n",
    "                         if (vals[i],vals[j]) not in set_tup:\n",
    "                                \n",
    "                                temp = vals[j]\n",
    "                                vals[j] = vals[i]\n",
    "                                vals[i] = temp\n",
    "                                \n",
    "                                \n",
    "                ans += vals[n//2]\n",
    "                \n",
    "ans"
   ]
  },
  {
   "cell_type": "code",
   "execution_count": null,
   "id": "26d698ad",
   "metadata": {},
   "outputs": [],
   "source": []
  },
  {
   "cell_type": "code",
   "execution_count": null,
   "id": "596a2576",
   "metadata": {},
   "outputs": [],
   "source": []
  },
  {
   "cell_type": "code",
   "execution_count": null,
   "id": "0a17db5b",
   "metadata": {},
   "outputs": [],
   "source": []
  },
  {
   "cell_type": "code",
   "execution_count": null,
   "id": "819867be",
   "metadata": {},
   "outputs": [],
   "source": []
  },
  {
   "cell_type": "code",
   "execution_count": null,
   "id": "b6945dee",
   "metadata": {},
   "outputs": [],
   "source": []
  }
 ],
 "metadata": {
  "kernelspec": {
   "display_name": "Python 3 (ipykernel)",
   "language": "python",
   "name": "python3"
  },
  "language_info": {
   "codemirror_mode": {
    "name": "ipython",
    "version": 3
   },
   "file_extension": ".py",
   "mimetype": "text/x-python",
   "name": "python",
   "nbconvert_exporter": "python",
   "pygments_lexer": "ipython3",
   "version": "3.10.9"
  }
 },
 "nbformat": 4,
 "nbformat_minor": 5
}
