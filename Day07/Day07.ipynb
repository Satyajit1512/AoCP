{
 "cells": [
  {
   "cell_type": "code",
   "execution_count": 285,
   "id": "21bee383",
   "metadata": {},
   "outputs": [],
   "source": [
    "count_1 = 0\n",
    "\n",
    "count_2 = 0\n",
    "\n",
    "\n",
    "def dp_solve_1(i, n, target, curr_ans):\n",
    "                        \n",
    "    if i == n:\n",
    "                \n",
    "        return curr_ans == target\n",
    "    \n",
    "    if curr_ans > target:\n",
    "        \n",
    "        return False\n",
    "\n",
    "                \n",
    "    path_1 = dp_solve_1(i + 1, n, target, curr_ans + operands[i]) \n",
    "    path_2 = dp_solve_1(i + 1, n, target, curr_ans * operands[i])\n",
    "    \n",
    "    return path_1 or path_2\n",
    "    \n",
    "\n",
    "    \n",
    "def dp_solve_2(i, n, target, curr_ans):\n",
    "    \n",
    "        \n",
    "    if i == n:\n",
    "                \n",
    "        return curr_ans == target\n",
    "    \n",
    "    \n",
    "    if curr_ans > target:\n",
    "        \n",
    "        return False\n",
    "    \n",
    "    \n",
    "    path_1 = dp_solve_2(i + 1, n, target, curr_ans + operands[i]) \n",
    "    path_2 = dp_solve_2(i + 1, n, target, curr_ans * operands[i])\n",
    "    path_3 = dp_solve_2(i + 1, n, target, int(str(curr_ans)+str(operands[i])))\n",
    "        \n",
    "    return path_1 or path_2 or path_3\n",
    "   \n",
    "    \n",
    "    \n",
    "with open('./input.txt', 'r') as file:\n",
    "\n",
    "    for line in file:\n",
    "                \n",
    "        line = line.rstrip(\"\\n\").split(\" \")\n",
    "                                    \n",
    "        if line[0]:\n",
    "                                                \n",
    "            target = int(line[0].split(\":\")[0])\n",
    "            \n",
    "            operands = [int(val) for val in line[1:]]\n",
    "                        \n",
    "            n = len(operands)\n",
    "                                                                        \n",
    "            if dp_solve_1(1, n, target, operands[0]):\n",
    "                                \n",
    "                count_1 += target\n",
    "            \n",
    "            if dp_solve_2(1, n, target, operands[0]):\n",
    "                                \n",
    "                count_2 += target\n",
    "                "
   ]
  },
  {
   "cell_type": "code",
   "execution_count": 286,
   "id": "d66cb46d",
   "metadata": {},
   "outputs": [
    {
     "data": {
      "text/plain": [
       "1153997401072"
      ]
     },
     "execution_count": 286,
     "metadata": {},
     "output_type": "execute_result"
    }
   ],
   "source": [
    "count_1"
   ]
  },
  {
   "cell_type": "code",
   "execution_count": 287,
   "id": "f4ee1274",
   "metadata": {},
   "outputs": [
    {
     "data": {
      "text/plain": [
       "97902809384118"
      ]
     },
     "execution_count": 287,
     "metadata": {},
     "output_type": "execute_result"
    }
   ],
   "source": [
    "count_2"
   ]
  },
  {
   "cell_type": "code",
   "execution_count": null,
   "id": "6df438d3",
   "metadata": {},
   "outputs": [],
   "source": []
  }
 ],
 "metadata": {
  "kernelspec": {
   "display_name": "Python 3 (ipykernel)",
   "language": "python",
   "name": "python3"
  },
  "language_info": {
   "codemirror_mode": {
    "name": "ipython",
    "version": 3
   },
   "file_extension": ".py",
   "mimetype": "text/x-python",
   "name": "python",
   "nbconvert_exporter": "python",
   "pygments_lexer": "ipython3",
   "version": "3.10.9"
  }
 },
 "nbformat": 4,
 "nbformat_minor": 5
}
